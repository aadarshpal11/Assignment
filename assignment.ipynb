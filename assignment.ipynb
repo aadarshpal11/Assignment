{
 "cells": [
  {
   "cell_type": "code",
   "execution_count": null,
   "id": "60e279c8-f602-48df-85ec-392757fd303f",
   "metadata": {},
   "outputs": [],
   "source": [
    "#1.Explain the key featu$es of Python that make it a popular choice for programming?\n",
    "\n",
    "#Python is a programming language.\n",
    "#FEATURES\n",
    "#python is widely used in the industry,in data industry\n",
    "#a lot of libraries\n",
    "#frontend, backend, data analytics\n",
    "#automation\n",
    "#image processing"
   ]
  },
  {
   "cell_type": "code",
   "execution_count": null,
   "id": "ed7e9f3b-f4f5-493a-9363-e8542b63a730",
   "metadata": {},
   "outputs": [],
   "source": []
  },
  {
   "cell_type": "code",
   "execution_count": 1,
   "id": "5a0bf260-fb08-428d-b928-b300555c9db7",
   "metadata": {},
   "outputs": [
    {
     "name": "stdout",
     "output_type": "stream",
     "text": [
      "\n",
      "Here is a list of the Python keywords.  Enter any keyword to get more help.\n",
      "\n",
      "False               class               from                or\n",
      "None                continue            global              pass\n",
      "True                def                 if                  raise\n",
      "and                 del                 import              return\n",
      "as                  elif                in                  try\n",
      "assert              else                is                  while\n",
      "async               except              lambda              with\n",
      "await               finally             nonlocal            yield\n",
      "break               for                 not                 \n",
      "\n"
     ]
    }
   ],
   "source": [
    "#2. Describe the role of predefined keywords in Python and provide examples of how they are used in a program?\n",
    "\n",
    "#role of predefined keywords >> are predefined words that hold a specific meaning and have specific purpose in python.\n",
    "help('keywords')"
   ]
  },
  {
   "cell_type": "code",
   "execution_count": 2,
   "id": "377ff349-64ac-4da1-abfd-f6167568f851",
   "metadata": {},
   "outputs": [
    {
     "name": "stdout",
     "output_type": "stream",
     "text": [
      "a is equal to 10\n"
     ]
    }
   ],
   "source": [
    "#examples\n",
    "\n",
    "a = 10\n",
    "if a < 10:\n",
    "    print(\"a is lesser than 10\")\n",
    "elif a > 10:\n",
    "    print(\"a is greater than 10\")\n",
    "else:\n",
    "    print(\"a is equal to 10\")"
   ]
  },
  {
   "cell_type": "code",
   "execution_count": 3,
   "id": "d74565ff-fc6b-4a5b-978e-aa5345ca173e",
   "metadata": {},
   "outputs": [
    {
     "name": "stdout",
     "output_type": "stream",
     "text": [
      "a is greater than 10\n"
     ]
    }
   ],
   "source": [
    "a = 100\n",
    "if a < 10:\n",
    "    print(\"a is lesser than 10\")\n",
    "elif a > 10:\n",
    "    print(\"a is greater than 10\")\n",
    "else:\n",
    "    print(\"a is equal to 10\")"
   ]
  },
  {
   "cell_type": "code",
   "execution_count": 4,
   "id": "346a9ed0-5afd-4e78-8222-c993b0454873",
   "metadata": {},
   "outputs": [
    {
     "name": "stdout",
     "output_type": "stream",
     "text": [
      "a is lesser than 10\n"
     ]
    }
   ],
   "source": [
    "a = 5\n",
    "if a < 10:\n",
    "    print(\"a is lesser than 10\")\n",
    "elif a > 10:\n",
    "    print(\"a is greater than 10\")\n",
    "else:\n",
    "    print(\"a is equal to 10\")"
   ]
  },
  {
   "cell_type": "code",
   "execution_count": 7,
   "id": "6e8ad9b2-cbba-4aa8-b254-3f95574f89e2",
   "metadata": {},
   "outputs": [
    {
     "name": "stdout",
     "output_type": "stream",
     "text": [
      "5\n",
      "6\n",
      "7\n"
     ]
    }
   ],
   "source": [
    "x = 5\n",
    "y = 10\n",
    "while x < y:\n",
    "    print(x)\n",
    "    x = x+1\n",
    "    if x == 8:\n",
    "        break"
   ]
  },
  {
   "cell_type": "code",
   "execution_count": 9,
   "id": "d650e61c-a000-402d-b914-12c96ada42db",
   "metadata": {},
   "outputs": [
    {
     "name": "stdout",
     "output_type": "stream",
     "text": [
      "6\n",
      "7\n",
      "9\n",
      "10\n"
     ]
    }
   ],
   "source": [
    "x = 5\n",
    "y = 10\n",
    "while x < y:\n",
    "    x = x+1\n",
    "    if x == 8:\n",
    "        continue\n",
    "    print(x)    "
   ]
  },
  {
   "cell_type": "code",
   "execution_count": null,
   "id": "632ed48f-0e41-4611-8d12-537f406d6568",
   "metadata": {},
   "outputs": [],
   "source": []
  },
  {
   "cell_type": "code",
   "execution_count": 10,
   "id": "a068952f-5e8e-49b0-ad43-454f7524e0d4",
   "metadata": {},
   "outputs": [],
   "source": [
    "#3. Compare and contrast mutable and immutable objects in Python with examples.\n",
    "\n",
    "#mutable objects >> objects whose state or values can be changed after they are created\n",
    "#example\n",
    "l = [\"Aadarsh\",\"Hitesh\",100,35,\"Niraj\"]"
   ]
  },
  {
   "cell_type": "code",
   "execution_count": 21,
   "id": "870fb69e-3c14-4b72-b22e-43b2186eeef5",
   "metadata": {},
   "outputs": [
    {
     "data": {
      "text/plain": [
       "['Aadarsh', 'Hitesh', 100, 35, 'Niraj']"
      ]
     },
     "execution_count": 21,
     "metadata": {},
     "output_type": "execute_result"
    }
   ],
   "source": [
    "l"
   ]
  },
  {
   "cell_type": "code",
   "execution_count": 20,
   "id": "60ec7018-7d3a-4425-96e3-0e8bc0addfaa",
   "metadata": {},
   "outputs": [
    {
     "data": {
      "text/plain": [
       "'Niraj'"
      ]
     },
     "execution_count": 20,
     "metadata": {},
     "output_type": "execute_result"
    }
   ],
   "source": [
    "l[-1]"
   ]
  },
  {
   "cell_type": "code",
   "execution_count": 22,
   "id": "be4c736b-7a3e-4c35-8169-12398bb9be1a",
   "metadata": {},
   "outputs": [],
   "source": [
    "l[-1] = \"Dhiraj\""
   ]
  },
  {
   "cell_type": "code",
   "execution_count": 15,
   "id": "e795a4d1-21dc-451b-9403-837cf6302b57",
   "metadata": {},
   "outputs": [
    {
     "data": {
      "text/plain": [
       "['Aadarsh', 'Hitesh', 100, 35, 'Dhiraj']"
      ]
     },
     "execution_count": 15,
     "metadata": {},
     "output_type": "execute_result"
    }
   ],
   "source": [
    "l  #list is a type of a mutable object."
   ]
  },
  {
   "cell_type": "code",
   "execution_count": 23,
   "id": "215fb011-8562-465b-a61e-690d9fc1dc79",
   "metadata": {},
   "outputs": [
    {
     "data": {
      "text/plain": [
       "'d'"
      ]
     },
     "execution_count": 23,
     "metadata": {},
     "output_type": "execute_result"
    }
   ],
   "source": [
    "#immutable objects >> whose state or values can not be changed after they are created\n",
    "a = \"Aadarsh\"\n",
    "a[2]"
   ]
  },
  {
   "cell_type": "code",
   "execution_count": 24,
   "id": "34d0ae60-b783-4717-96f4-ddbaf6f02f36",
   "metadata": {},
   "outputs": [
    {
     "ename": "NameError",
     "evalue": "name 'p' is not defined",
     "output_type": "error",
     "traceback": [
      "\u001b[0;31m---------------------------------------------------------------------------\u001b[0m",
      "\u001b[0;31mNameError\u001b[0m                                 Traceback (most recent call last)",
      "Cell \u001b[0;32mIn[24], line 1\u001b[0m\n\u001b[0;32m----> 1\u001b[0m a[\u001b[38;5;241m2\u001b[39m] \u001b[38;5;241m=\u001b[39m \u001b[43mp\u001b[49m\n",
      "\u001b[0;31mNameError\u001b[0m: name 'p' is not defined"
     ]
    }
   ],
   "source": [
    "a[2] = p #string is immutablee object."
   ]
  },
  {
   "cell_type": "code",
   "execution_count": null,
   "id": "32efe4dc-2279-4319-9ece-fdde07a89cff",
   "metadata": {},
   "outputs": [],
   "source": []
  },
  {
   "cell_type": "code",
   "execution_count": 39,
   "id": "31413916-d2ae-4d31-8117-64b785614f34",
   "metadata": {},
   "outputs": [],
   "source": [
    "#4. Discuss the different types of operators in Python and provide examples of how they are used?\n",
    "\n",
    "#Python operators >>are special keywords/symbols that are used to perform operation on values or variables.\n",
    "#different types of operators:- Arithematic, comparison, logical, bitwise, assignment, membership, identity."
   ]
  },
  {
   "cell_type": "code",
   "execution_count": 28,
   "id": "f6170ca4-9e7a-429f-9e0d-cff34533b3f2",
   "metadata": {},
   "outputs": [
    {
     "data": {
      "text/plain": [
       "8"
      ]
     },
     "execution_count": 28,
     "metadata": {},
     "output_type": "execute_result"
    }
   ],
   "source": [
    "#Examples\n",
    "\n",
    "#Arithmatic operator\n",
    "3 + 5"
   ]
  },
  {
   "cell_type": "code",
   "execution_count": 29,
   "id": "59febf2f-9ac1-4d24-964c-96d8952896f9",
   "metadata": {},
   "outputs": [
    {
     "data": {
      "text/plain": [
       "-2"
      ]
     },
     "execution_count": 29,
     "metadata": {},
     "output_type": "execute_result"
    }
   ],
   "source": [
    "5-7"
   ]
  },
  {
   "cell_type": "code",
   "execution_count": 30,
   "id": "e3b47154-7bb0-4978-a952-731d30df5758",
   "metadata": {},
   "outputs": [
    {
     "data": {
      "text/plain": [
       "0.6"
      ]
     },
     "execution_count": 30,
     "metadata": {},
     "output_type": "execute_result"
    }
   ],
   "source": [
    "3/5"
   ]
  },
  {
   "cell_type": "code",
   "execution_count": 31,
   "id": "57ef3a97-7bff-4a5c-9479-fce2bcfa8f20",
   "metadata": {},
   "outputs": [
    {
     "data": {
      "text/plain": [
       "30"
      ]
     },
     "execution_count": 31,
     "metadata": {},
     "output_type": "execute_result"
    }
   ],
   "source": [
    "5*6"
   ]
  },
  {
   "cell_type": "code",
   "execution_count": 33,
   "id": "70464160-f7c3-45e9-8876-e2435d23acc3",
   "metadata": {},
   "outputs": [
    {
     "data": {
      "text/plain": [
       "1"
      ]
     },
     "execution_count": 33,
     "metadata": {},
     "output_type": "execute_result"
    }
   ],
   "source": [
    "56 % 5"
   ]
  },
  {
   "cell_type": "code",
   "execution_count": 34,
   "id": "f976945a-df80-4ac9-acc1-ec705e6efcba",
   "metadata": {},
   "outputs": [
    {
     "data": {
      "text/plain": [
       "390625"
      ]
     },
     "execution_count": 34,
     "metadata": {},
     "output_type": "execute_result"
    }
   ],
   "source": [
    "5 ** 8"
   ]
  },
  {
   "cell_type": "code",
   "execution_count": 35,
   "id": "b85579f2-612f-42d0-b152-037206be1361",
   "metadata": {},
   "outputs": [
    {
     "data": {
      "text/plain": [
       "True"
      ]
     },
     "execution_count": 35,
     "metadata": {},
     "output_type": "execute_result"
    }
   ],
   "source": [
    "#Comparison operator\n",
    "10==10"
   ]
  },
  {
   "cell_type": "code",
   "execution_count": 36,
   "id": "16df8f8d-3719-4bc3-b1ee-64907ba30859",
   "metadata": {},
   "outputs": [
    {
     "data": {
      "text/plain": [
       "True"
      ]
     },
     "execution_count": 36,
     "metadata": {},
     "output_type": "execute_result"
    }
   ],
   "source": [
    "5<7"
   ]
  },
  {
   "cell_type": "code",
   "execution_count": 37,
   "id": "d5dbab62-77ab-4cb6-b776-a107b93e8640",
   "metadata": {},
   "outputs": [
    {
     "data": {
      "text/plain": [
       "False"
      ]
     },
     "execution_count": 37,
     "metadata": {},
     "output_type": "execute_result"
    }
   ],
   "source": [
    "1000<10"
   ]
  },
  {
   "cell_type": "code",
   "execution_count": 38,
   "id": "4d110c10-3a66-451a-8b9f-935ba19a817d",
   "metadata": {},
   "outputs": [
    {
     "data": {
      "text/plain": [
       "1"
      ]
     },
     "execution_count": 38,
     "metadata": {},
     "output_type": "execute_result"
    }
   ],
   "source": [
    "#Logical operator\n",
    "True - False"
   ]
  },
  {
   "cell_type": "code",
   "execution_count": 40,
   "id": "b37fa844-29fe-45b1-ba90-cb2b50f102f2",
   "metadata": {},
   "outputs": [
    {
     "data": {
      "text/plain": [
       "True"
      ]
     },
     "execution_count": 40,
     "metadata": {},
     "output_type": "execute_result"
    }
   ],
   "source": [
    "#not operator\n",
    "not False"
   ]
  },
  {
   "cell_type": "code",
   "execution_count": 41,
   "id": "93cc09b2-7cce-41ff-b1de-d091adcb7228",
   "metadata": {},
   "outputs": [
    {
     "data": {
      "text/plain": [
       "15"
      ]
     },
     "execution_count": 41,
     "metadata": {},
     "output_type": "execute_result"
    }
   ],
   "source": [
    "#assignment operator\n",
    "a = 15\n",
    "a"
   ]
  },
  {
   "cell_type": "code",
   "execution_count": 42,
   "id": "14e20ace-55db-4a37-9bab-b1c430da4a58",
   "metadata": {},
   "outputs": [
    {
     "data": {
      "text/plain": [
       "25"
      ]
     },
     "execution_count": 42,
     "metadata": {},
     "output_type": "execute_result"
    }
   ],
   "source": [
    "a + 10"
   ]
  },
  {
   "cell_type": "code",
   "execution_count": 44,
   "id": "ea8ccb57-c506-4ed7-a3ed-cf34d3ed1a48",
   "metadata": {},
   "outputs": [
    {
     "data": {
      "text/plain": [
       "True"
      ]
     },
     "execution_count": 44,
     "metadata": {},
     "output_type": "execute_result"
    }
   ],
   "source": [
    "#Membership operator\n",
    "a = \"Aadarsh\"\n",
    "\"A\" in a"
   ]
  },
  {
   "cell_type": "code",
   "execution_count": 45,
   "id": "1a6c7808-3e65-4f3c-ad71-f1c648517c8f",
   "metadata": {},
   "outputs": [
    {
     "data": {
      "text/plain": [
       "False"
      ]
     },
     "execution_count": 45,
     "metadata": {},
     "output_type": "execute_result"
    }
   ],
   "source": [
    "\"p\" in a"
   ]
  },
  {
   "cell_type": "code",
   "execution_count": 46,
   "id": "89d59ede-5b52-46a1-9bc2-57555eb1f31f",
   "metadata": {},
   "outputs": [],
   "source": [
    "#identity operator\n",
    "x = 13\n",
    "y = 15"
   ]
  },
  {
   "cell_type": "code",
   "execution_count": 48,
   "id": "33403734-667b-4de6-8a92-3a8f4011608c",
   "metadata": {},
   "outputs": [
    {
     "data": {
      "text/plain": [
       "False"
      ]
     },
     "execution_count": 48,
     "metadata": {},
     "output_type": "execute_result"
    }
   ],
   "source": [
    "x is y"
   ]
  },
  {
   "cell_type": "code",
   "execution_count": 50,
   "id": "bebe622e-151d-4954-8184-be6f8462ec2b",
   "metadata": {},
   "outputs": [
    {
     "data": {
      "text/plain": [
       "True"
      ]
     },
     "execution_count": 50,
     "metadata": {},
     "output_type": "execute_result"
    }
   ],
   "source": [
    "x is not y"
   ]
  },
  {
   "cell_type": "code",
   "execution_count": 51,
   "id": "966c7ad0-3878-4691-9744-ca84cc6b7534",
   "metadata": {},
   "outputs": [
    {
     "data": {
      "text/plain": [
       "5"
      ]
     },
     "execution_count": 51,
     "metadata": {},
     "output_type": "execute_result"
    }
   ],
   "source": [
    "#Bitwise operator\n",
    "\n",
    "5 & 5"
   ]
  },
  {
   "cell_type": "code",
   "execution_count": 52,
   "id": "3c260998-1bce-42f9-8350-49c15f7a2b24",
   "metadata": {},
   "outputs": [
    {
     "data": {
      "text/plain": [
       "'0b101'"
      ]
     },
     "execution_count": 52,
     "metadata": {},
     "output_type": "execute_result"
    }
   ],
   "source": [
    "bin(5)"
   ]
  },
  {
   "cell_type": "code",
   "execution_count": 53,
   "id": "1042463d-4456-4f7b-ae01-826d470006bd",
   "metadata": {},
   "outputs": [
    {
     "data": {
      "text/plain": [
       "2"
      ]
     },
     "execution_count": 53,
     "metadata": {},
     "output_type": "execute_result"
    }
   ],
   "source": [
    "34 & 2"
   ]
  },
  {
   "cell_type": "code",
   "execution_count": 55,
   "id": "976c6816-c3c3-4651-9dec-3442253e3459",
   "metadata": {},
   "outputs": [
    {
     "data": {
      "text/plain": [
       "'0b100010'"
      ]
     },
     "execution_count": 55,
     "metadata": {},
     "output_type": "execute_result"
    }
   ],
   "source": [
    "bin(34)"
   ]
  },
  {
   "cell_type": "code",
   "execution_count": 56,
   "id": "655cad93-e433-46f3-92e5-8d899fdd45e5",
   "metadata": {},
   "outputs": [
    {
     "data": {
      "text/plain": [
       "'0b10'"
      ]
     },
     "execution_count": 56,
     "metadata": {},
     "output_type": "execute_result"
    }
   ],
   "source": [
    "bin(2)"
   ]
  },
  {
   "cell_type": "code",
   "execution_count": null,
   "id": "2117cf6e-043f-4ede-8135-59100cdae13f",
   "metadata": {},
   "outputs": [],
   "source": []
  },
  {
   "cell_type": "code",
   "execution_count": 57,
   "id": "246801e8-f69a-4513-a755-1287c4163204",
   "metadata": {},
   "outputs": [
    {
     "ename": "TypeError",
     "evalue": "can only concatenate str (not \"int\") to str",
     "output_type": "error",
     "traceback": [
      "\u001b[0;31m---------------------------------------------------------------------------\u001b[0m",
      "\u001b[0;31mTypeError\u001b[0m                                 Traceback (most recent call last)",
      "Cell \u001b[0;32mIn[57], line 4\u001b[0m\n\u001b[1;32m      1\u001b[0m \u001b[38;5;66;03m#5. Explain the concept of type casting in Python with examples.\u001b[39;00m\n\u001b[1;32m      2\u001b[0m \n\u001b[1;32m      3\u001b[0m \u001b[38;5;66;03m#Type casting >> the process of changing the data type of the values/object in python.\u001b[39;00m\n\u001b[0;32m----> 4\u001b[0m \u001b[38;5;124;43m\"\u001b[39;49m\u001b[38;5;124;43m200\u001b[39;49m\u001b[38;5;124;43m\"\u001b[39;49m\u001b[43m \u001b[49m\u001b[38;5;241;43m+\u001b[39;49m\u001b[43m \u001b[49m\u001b[38;5;241;43m500\u001b[39;49m\n",
      "\u001b[0;31mTypeError\u001b[0m: can only concatenate str (not \"int\") to str"
     ]
    }
   ],
   "source": [
    "#5. Explain the concept of type casting in Python with examples.\n",
    "\n",
    "#Type casting >> the process of changing the data type of the values/object in python.\n",
    "\"200\" + 500 #it will throw an error."
   ]
  },
  {
   "cell_type": "code",
   "execution_count": 58,
   "id": "7d23816e-fd00-44db-a79a-9897ec5bc1dc",
   "metadata": {},
   "outputs": [
    {
     "data": {
      "text/plain": [
       "700"
      ]
     },
     "execution_count": 58,
     "metadata": {},
     "output_type": "execute_result"
    }
   ],
   "source": [
    "int(\"200\") + 500"
   ]
  },
  {
   "cell_type": "code",
   "execution_count": 59,
   "id": "77d7ba6f-74f3-4c3d-9a11-66b214f76ce0",
   "metadata": {},
   "outputs": [
    {
     "data": {
      "text/plain": [
       "str"
      ]
     },
     "execution_count": 59,
     "metadata": {},
     "output_type": "execute_result"
    }
   ],
   "source": [
    "type(\"200\")"
   ]
  },
  {
   "cell_type": "code",
   "execution_count": 60,
   "id": "acbfac3b-3976-4338-acf1-018d8e302d5a",
   "metadata": {},
   "outputs": [
    {
     "data": {
      "text/plain": [
       "int"
      ]
     },
     "execution_count": 60,
     "metadata": {},
     "output_type": "execute_result"
    }
   ],
   "source": [
    "type(int(\"200\"))"
   ]
  },
  {
   "cell_type": "code",
   "execution_count": null,
   "id": "043d60ef-929d-491d-a7f4-8b63a3c04c93",
   "metadata": {},
   "outputs": [],
   "source": []
  },
  {
   "cell_type": "code",
   "execution_count": 80,
   "id": "eb563fd2-dbbf-4fa9-aa05-4917ea69a4fc",
   "metadata": {},
   "outputs": [],
   "source": [
    "#6. How do conditional statements work in Python? Illustrate with examples.\n",
    "\n",
    "#Conditional statement >> help you to code decisions based on some precondittions.\n",
    "#if\n",
    "#if else\n",
    "#if elif else\n",
    "#nested if else"
   ]
  },
  {
   "cell_type": "code",
   "execution_count": 71,
   "id": "5e82cfca-bfb1-4c9c-bbc9-6d6d3ddc5495",
   "metadata": {},
   "outputs": [
    {
     "name": "stdout",
     "output_type": "stream",
     "text": [
      "I am 100% sure that i will clear the upsc prelims 2024\n"
     ]
    }
   ],
   "source": [
    "marks = 90\n",
    "if marks >=90:\n",
    "    print(\"I am 100% sure that i will clear the upsc prelims 2024\")\n",
    "elif 85 <= marks < 90:\n",
    "    print(\"There is a chance to clear upsc cse 2024\")\n",
    "elif 75 <= marks < 85:\n",
    "    print(\"Not possible to clear upsc cse 2024\")\n",
    "else:\n",
    "    print(\"You are failed\")"
   ]
  },
  {
   "cell_type": "code",
   "execution_count": 70,
   "id": "2580d9ee-7a6e-48a0-b9c9-2c6674338f2b",
   "metadata": {},
   "outputs": [
    {
     "name": "stdout",
     "output_type": "stream",
     "text": [
      "There is a chance to clear upsc cse 2024\n"
     ]
    }
   ],
   "source": [
    "marks = 87\n",
    "if marks >=90:\n",
    "    print(\"I am 100% sure that i will clear the upsc prelims 2024\")\n",
    "elif 85 <= marks < 90:\n",
    "    print(\"There is a chance to clear upsc cse 2024\")\n",
    "elif 75 <= marks < 85:\n",
    "    print(\"Not possible to clear upsc cse 2024\")\n",
    "else:\n",
    "    print(\"You are failed\")"
   ]
  },
  {
   "cell_type": "code",
   "execution_count": 69,
   "id": "e833aedf-98ec-4257-8bef-33e6f488103a",
   "metadata": {},
   "outputs": [
    {
     "name": "stdout",
     "output_type": "stream",
     "text": [
      "Not possible to clear upsc cse 2024\n"
     ]
    }
   ],
   "source": [
    "marks = 80\n",
    "if marks >=90:\n",
    "    print(\"I am 100% sure that i will clear the upsc prelims 2024\")\n",
    "elif 85 <= marks < 90:\n",
    "    print(\"There is a chance to clear upsc cse 2024\")\n",
    "elif 75 <= marks < 85:\n",
    "    print(\"Not possible to clear upsc cse 2024\")\n",
    "else:\n",
    "    print(\"You are failed\")"
   ]
  },
  {
   "cell_type": "code",
   "execution_count": 72,
   "id": "23e9d27e-a52b-4159-9bfc-747037304cbd",
   "metadata": {},
   "outputs": [
    {
     "name": "stdout",
     "output_type": "stream",
     "text": [
      "You are failed\n"
     ]
    }
   ],
   "source": [
    "marks = 72\n",
    "if marks >=90:\n",
    "    print(\"I am 100% sure that i will clear the upsc prelims 2024\")\n",
    "elif 85 <= marks < 90:\n",
    "    print(\"There is a chance to clear upsc cse 2024\")\n",
    "elif 75 <= marks < 85:\n",
    "    print(\"Not possible to clear upsc cse 2024\")\n",
    "else:\n",
    "    print(\"You are failed\")"
   ]
  },
  {
   "cell_type": "code",
   "execution_count": null,
   "id": "8beec4fa-db37-4c1b-859c-4ddf0a619b13",
   "metadata": {},
   "outputs": [],
   "source": []
  },
  {
   "cell_type": "code",
   "execution_count": 77,
   "id": "77eb2afc-078f-453e-9449-95ebf6ee11f5",
   "metadata": {},
   "outputs": [
    {
     "name": "stdout",
     "output_type": "stream",
     "text": [
      "4\n",
      "8\n",
      "10\n",
      "This will be executed when the while loop run successfully without any break\n"
     ]
    }
   ],
   "source": [
    "#7. Describe the different types of loops in Python and their use cases with examples.\n",
    "\n",
    "# two primary types of loops: for loops and while loops.\n",
    "#For loop >> are used for iterating over a sequence of elements.\n",
    "#While loop >>are used for executing code until a specified condition becomes False.\n",
    "\n",
    "#Examples\n",
    "x = 10\n",
    "y = 2\n",
    "while y < x:\n",
    "    y = y+2\n",
    "    if y == 6:\n",
    "        continue\n",
    "    print(y)\n",
    "else:\n",
    "    print(\"This will be executed when the while loop run successfully without any break\")"
   ]
  },
  {
   "cell_type": "code",
   "execution_count": 78,
   "id": "f424bf49-4a8b-407b-b5e1-b7a4fd22c1ad",
   "metadata": {},
   "outputs": [
    {
     "name": "stdout",
     "output_type": "stream",
     "text": [
      "A\n",
      "a\n",
      "d\n",
      "a\n",
      "r\n",
      "s\n",
      "h\n",
      "This will be executed when the for loop run successfully without any break\n"
     ]
    }
   ],
   "source": [
    "a = \"Aadarsh\"\n",
    "for i in a:\n",
    "    print(i)\n",
    "else:\n",
    "     print(\"This will be executed when the for loop run successfully without any break\")"
   ]
  },
  {
   "cell_type": "code",
   "execution_count": null,
   "id": "7b808c53-dc70-4d67-be73-113760e54c13",
   "metadata": {},
   "outputs": [],
   "source": []
  }
 ],
 "metadata": {
  "kernelspec": {
   "display_name": "Python 3 (ipykernel)",
   "language": "python",
   "name": "python3"
  },
  "language_info": {
   "codemirror_mode": {
    "name": "ipython",
    "version": 3
   },
   "file_extension": ".py",
   "mimetype": "text/x-python",
   "name": "python",
   "nbconvert_exporter": "python",
   "pygments_lexer": "ipython3",
   "version": "3.10.8"
  }
 },
 "nbformat": 4,
 "nbformat_minor": 5
}
